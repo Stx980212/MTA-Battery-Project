{
 "cells": [
  {
   "cell_type": "code",
   "execution_count": 1,
   "id": "0d6dbcea",
   "metadata": {},
   "outputs": [],
   "source": [
    "import pandas as pd\n",
    "import numpy as np"
   ]
  },
  {
   "cell_type": "code",
   "execution_count": 3,
   "id": "1214a428",
   "metadata": {},
   "outputs": [],
   "source": [
    "data = pd.read_excel(\"Winter 2019 Block Data.xlsx\")"
   ]
  },
  {
   "cell_type": "code",
   "execution_count": 26,
   "id": "d2341b87",
   "metadata": {},
   "outputs": [
    {
     "data": {
      "text/plain": [
       "Index(['Agency', 'Depot', 'DayType', 'Updated VID', ' VehicleId', ' BlockId',\n",
       "       ' StartTime', ' EndTime', 'NextOut', ' Duration', ' Distance',\n",
       "       'Pull-out', 'Pull-in', ' VehicleType', ' In Depot Duration', ' Routes',\n",
       "       'Division', ' Borough ', 'Bus Type', 'Main Route', 'Block Order',\n",
       "       'Start Time', 'End Time', 'NextOutTime', 'Duration'],\n",
       "      dtype='object')"
      ]
     },
     "execution_count": 26,
     "metadata": {},
     "output_type": "execute_result"
    }
   ],
   "source": [
    "data.columns"
   ]
  },
  {
   "cell_type": "code",
   "execution_count": 15,
   "id": "77665587",
   "metadata": {},
   "outputs": [],
   "source": [
    "data_manhattan = data[data[\"Division\"] == \"Manhattan\"]"
   ]
  },
  {
   "cell_type": "code",
   "execution_count": 17,
   "id": "0c3c8fd9",
   "metadata": {},
   "outputs": [
    {
     "data": {
      "text/plain": [
       "MQ    851\n",
       "MV    583\n",
       "OH    331\n",
       "OF    270\n",
       "Name: Depot, dtype: int64"
      ]
     },
     "execution_count": 17,
     "metadata": {},
     "output_type": "execute_result"
    }
   ],
   "source": [
    "data_manhattan[\"Depot\"].value_counts()"
   ]
  },
  {
   "cell_type": "code",
   "execution_count": 19,
   "id": "6a0f268e",
   "metadata": {},
   "outputs": [
    {
     "data": {
      "text/plain": [
       "M4      83\n",
       "M104    74\n",
       "M2      64\n",
       "M96     62\n",
       "M3      60\n",
       "M116    51\n",
       "M11     48\n",
       "M10     44\n",
       "M5      35\n",
       "M05     29\n",
       "M98     26\n",
       "M02      7\n",
       "Name: Main Route, dtype: int64"
      ]
     },
     "execution_count": 19,
     "metadata": {},
     "output_type": "execute_result"
    }
   ],
   "source": [
    "data_MV = data[data[\"Depot\"] == \"MV\"]\n",
    "data_MV[\"Main Route\"].value_counts()"
   ]
  },
  {
   "cell_type": "code",
   "execution_count": 20,
   "id": "06eb5e9c",
   "metadata": {},
   "outputs": [
    {
     "data": {
      "text/plain": [
       "M101     152\n",
       "M15       84\n",
       "M31       38\n",
       "M103      37\n",
       "M14AD     12\n",
       "M102       8\n",
       "Name: Main Route, dtype: int64"
      ]
     },
     "execution_count": 20,
     "metadata": {},
     "output_type": "execute_result"
    }
   ],
   "source": [
    "data_OH = data[data[\"Depot\"] == \"OH\"]\n",
    "data_OH[\"Main Route\"].value_counts()"
   ]
  },
  {
   "cell_type": "code",
   "execution_count": 21,
   "id": "839db434",
   "metadata": {},
   "outputs": [
    {
     "data": {
      "text/plain": [
       "SBS15    109\n",
       "M7        71\n",
       "M1        62\n",
       "M35       12\n",
       "M01       10\n",
       "M07        6\n",
       "Name: Main Route, dtype: int64"
      ]
     },
     "execution_count": 21,
     "metadata": {},
     "output_type": "execute_result"
    }
   ],
   "source": [
    "data_OF = data[data[\"Depot\"] == \"OF\"]\n",
    "data_OF[\"Main Route\"].value_counts()"
   ]
  },
  {
   "cell_type": "code",
   "execution_count": 18,
   "id": "ad7d99cf",
   "metadata": {},
   "outputs": [
    {
     "data": {
      "text/plain": [
       "SBS86    123\n",
       "M09       75\n",
       "SBS60     75\n",
       "M14AD     62\n",
       "M42       53\n",
       "M22       51\n",
       "SB79      49\n",
       "M14D      35\n",
       "M14A      35\n",
       "SBS23     34\n",
       "M66       33\n",
       "M21       29\n",
       "M57       23\n",
       "M50       23\n",
       "M34A      23\n",
       "M08       23\n",
       "M34       20\n",
       "M20       20\n",
       "M72       19\n",
       "M55       17\n",
       "M9        16\n",
       "M12        9\n",
       "M8         4\n",
       "Name: Main Route, dtype: int64"
      ]
     },
     "execution_count": 18,
     "metadata": {},
     "output_type": "execute_result"
    }
   ],
   "source": [
    "data_MQ = data[data[\"Depot\"] == \"MQ\"]\n",
    "data_MQ[\"Main Route\"].value_counts()"
   ]
  },
  {
   "cell_type": "code",
   "execution_count": 27,
   "id": "d5099fa3",
   "metadata": {},
   "outputs": [
    {
     "data": {
      "text/plain": [
       "STD     13729\n",
       "ART      2269\n",
       "HOCC     1467\n",
       "HIOC     1255\n",
       "SBS      1066\n",
       "          673\n",
       "SBST      441\n",
       "BRSB      155\n",
       "0         100\n",
       "LRSB       96\n",
       "LGRK       44\n",
       "U          16\n",
       "Name:  VehicleType, dtype: int64"
      ]
     },
     "execution_count": 27,
     "metadata": {},
     "output_type": "execute_result"
    }
   ],
   "source": [
    "data[\" VehicleType\"].value_counts()"
   ]
  },
  {
   "cell_type": "code",
   "execution_count": null,
   "id": "bb227495",
   "metadata": {},
   "outputs": [],
   "source": []
  }
 ],
 "metadata": {
  "kernelspec": {
   "display_name": "Python 3",
   "language": "python",
   "name": "python3"
  },
  "language_info": {
   "codemirror_mode": {
    "name": "ipython",
    "version": 3
   },
   "file_extension": ".py",
   "mimetype": "text/x-python",
   "name": "python",
   "nbconvert_exporter": "python",
   "pygments_lexer": "ipython3",
   "version": "3.8.8"
  }
 },
 "nbformat": 4,
 "nbformat_minor": 5
}
