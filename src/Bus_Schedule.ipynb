{
 "cells": [
  {
   "cell_type": "code",
   "execution_count": 1,
   "id": "e4fdbd21",
   "metadata": {},
   "outputs": [],
   "source": [
    "import pandas as pd\n",
    "import numpy as np\n",
    "import warnings # to suppress warnings\n",
    "import pickle\n",
    "warnings.filterwarnings('ignore')"
   ]
  },
  {
   "cell_type": "code",
   "execution_count": 2,
   "id": "a37ee85a",
   "metadata": {},
   "outputs": [],
   "source": [
    "def replace_SBS(s):\n",
    "    return s.replace('+',\"-SBS\")"
   ]
  },
  {
   "cell_type": "code",
   "execution_count": 6,
   "id": "9ffc14c8",
   "metadata": {},
   "outputs": [],
   "source": [
    "manhattan_filepath = \"../data/google_transit_manhattan/\"\n",
    "bronx_filepath = \"../data/google_transit_bronx/\"\n",
    "staten_island_filepath = \"../data/google_transit_staten_island/\"\n",
    "queens_filepath = \"../data/google_transit_queens/\"\n",
    "output_path = \"../output/\""
   ]
  },
  {
   "cell_type": "code",
   "execution_count": 4,
   "id": "3752bd0b",
   "metadata": {},
   "outputs": [],
   "source": [
    "def get_depot_schedule_weekday(depot, filepath):\n",
    "    stop_times = pd.read_csv(filepath + \"stop_times.txt\")\n",
    "    trips = pd.read_csv(filepath + \"trips.txt\")\n",
    "    data = pd.merge(stop_times,trips,how = \"left\", on = \"trip_id\")\n",
    "    data['Depot'], data['Trip'], data['route'], data['Bus_ID'] = data['trip_id'].str.split('_', 3).str\n",
    "    data['Day'], data['Type'], a = data['Trip'].str.split('-', 2).str\n",
    "    data[\"route_id\"] = data[\"route_id\"].apply(replace_SBS)\n",
    "    weekday_data = data[(data[\"Depot\"] == depot)&(data[\"Type\"] == \"Weekday\")&(data[\"Day\"] == \"H2\")]\n",
    "    route_list = weekday_data[\"route_id\"].unique()\n",
    "    \n",
    "    schedule = {}\n",
    "    bus_counts = {}\n",
    "\n",
    "    for i in route_list:\n",
    "        weekday_table = weekday_data[(weekday_data[\"stop_sequence\"] == 1)&(weekday_data[\"route_id\"] == i)&(weekday_data[\"direction_id\"] == 1)]\n",
    "        weekday_table = weekday_table.sort_values(\"arrival_time\")\n",
    "        i = i.replace(\"BX\",\"Bx\")\n",
    "        schedule[i] = list(weekday_table[\"arrival_time\"])\n",
    "        bus_counts[i] = len(weekday_table[\"Bus_ID\"].unique())\n",
    "    \n",
    "    with open(output_path + depot +\"_bus_counts.pkl\",\"wb\") as f:\n",
    "        pickle.dump(bus_counts,f)\n",
    "        print(bus_counts)\n",
    "        \n",
    "    with open(output_path + depot +\"_schedule.pkl\",\"wb\") as f:\n",
    "        pickle.dump(schedule,f)\n",
    "        \n",
    "    with open(output_path + depot +\"_schedule.pkl\",\"rb\") as f:\n",
    "        x = pickle.load(f)\n"
   ]
  },
  {
   "cell_type": "code",
   "execution_count": 7,
   "id": "7e85ff83",
   "metadata": {},
   "outputs": [
    {
     "name": "stdout",
     "output_type": "stream",
     "text": [
      "{'M9': 32, 'M14A-SBS': 29, 'M14D-SBS': 43, 'M50': 11, 'M42': 18, 'M20': 16, 'M55': 15, 'M12': 6, 'M22': 17, 'M86-SBS': 24, 'M79-SBS': 20, 'M60-SBS': 34, 'M34-SBS': 20, 'M34A-SBS': 24, 'M23-SBS': 18, 'M66': 22, 'M21': 16, 'M8': 14, 'M57': 21, 'M72': 20}\n"
     ]
    }
   ],
   "source": [
    "get_depot_schedule_weekday(\"MQ\", manhattan_filepath)"
   ]
  },
  {
   "cell_type": "code",
   "execution_count": 5,
   "id": "4164f928",
   "metadata": {},
   "outputs": [
    {
     "name": "stdout",
     "output_type": "stream",
     "text": [
      "{'SIM23': 6, 'SIM24': 6, 'SIM31': 9, 'SIM26': 13, 'SIM25': 11, 'SIM4C': 22, 'SIM4': 10, 'SIM8': 23, 'SIM2': 11, 'S78': 51, 'S74': 43, 'S56': 9, 'S55': 15}\n"
     ]
    }
   ],
   "source": [
    "get_depot_schedule_weekday(\"CH\", staten_island_filepath)"
   ]
  },
  {
   "cell_type": "code",
   "execution_count": 6,
   "id": "37e715ce",
   "metadata": {},
   "outputs": [
    {
     "name": "stdout",
     "output_type": "stream",
     "text": [
      "{'Bx1': 54, 'Bx2': 58, 'Bx13': 34, 'Bx10': 30, 'Bx18': 7, 'Bx20': 10, 'Bx9': 45, 'M100': 41, 'Bx7': 30, 'Bx3': 34, 'Bx15': 56}\n"
     ]
    }
   ],
   "source": [
    "get_depot_schedule_weekday(\"KB\", bronx_filepath)"
   ]
  },
  {
   "cell_type": "code",
   "execution_count": 7,
   "id": "89203320",
   "metadata": {},
   "outputs": [
    {
     "name": "stdout",
     "output_type": "stream",
     "text": [
      "{'Q83': 48, 'Q88': 45, 'Q43': 68, 'X63': 7, 'Q36': 40, 'X68': 8, 'X64': 5, 'Q46': 76, 'Q1': 27, 'Q27': 96, 'Q2': 28}\n"
     ]
    }
   ],
   "source": [
    "get_depot_schedule_weekday(\"QV\", queens_filepath)"
   ]
  },
  {
   "cell_type": "code",
   "execution_count": null,
   "id": "ceeb27f0",
   "metadata": {},
   "outputs": [],
   "source": [
    "filepath = \"../data/google_transit_manhattan/\"\n",
    "depot = 'MQ'\n",
    "stop_times = pd.read_csv(filepath + \"stop_times.txt\")\n",
    "trips = pd.read_csv(filepath + \"trips.txt\")\n",
    "data = pd.merge(stop_times,trips,how = \"left\", on = \"trip_id\")\n",
    "data['Depot'], data['Trip'], data['route'], data['Bus_ID'] = data['trip_id'].str.split('_', 3).str\n",
    "data['Day'], data['Type'], a = data['Trip'].str.split('-', 2).str\n",
    "data[\"route_id\"] = data[\"route_id\"].apply(replace_SBS)\n",
    "weekday_data = data[(data[\"Depot\"] == depot)&(data[\"Type\"] == \"Weekday\")&(data[\"Day\"] == \"H2\")]\n",
    "route_list = weekday_data[\"route_id\"].unique()"
   ]
  },
  {
   "cell_type": "code",
   "execution_count": null,
   "id": "d8519b47",
   "metadata": {},
   "outputs": [],
   "source": [
    "weekday_data"
   ]
  }
 ],
 "metadata": {
  "kernelspec": {
   "display_name": "Python 3",
   "language": "python",
   "name": "python3"
  },
  "language_info": {
   "codemirror_mode": {
    "name": "ipython",
    "version": 3
   },
   "file_extension": ".py",
   "mimetype": "text/x-python",
   "name": "python",
   "nbconvert_exporter": "python",
   "pygments_lexer": "ipython3",
   "version": "3.8.8"
  }
 },
 "nbformat": 4,
 "nbformat_minor": 5
}
