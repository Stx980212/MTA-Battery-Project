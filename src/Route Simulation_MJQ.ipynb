{
 "cells": [
  {
   "cell_type": "markdown",
   "metadata": {},
   "source": [
    "# Route Simulation"
   ]
  },
  {
   "cell_type": "code",
   "execution_count": 1,
   "metadata": {},
   "outputs": [],
   "source": [
    "import csv\n",
    "from typing import List, Dict, Set, Tuple\n",
    "import glob\n",
    "import math\n",
    "import random\n",
    "import numpy as np\n",
    "import pandas as pd\n",
    "import matplotlib.pyplot as plt\n",
    "import time as ti\n",
    "import warnings # to suppress warnings\n",
    "import pickle\n",
    "from datetime import datetime\n",
    "warnings.filterwarnings('ignore')\n",
    "\n",
    "from model import Stop, Edge, StopNetwork, Route, Charger, Bus, Simulation"
   ]
  },
  {
   "cell_type": "markdown",
   "metadata": {},
   "source": [
    "# Simulations on all buses in Manhattan"
   ]
  },
  {
   "cell_type": "markdown",
   "metadata": {},
   "source": [
    "## Initialize stop network"
   ]
  },
  {
   "cell_type": "code",
   "execution_count": 2,
   "metadata": {
    "scrolled": true
   },
   "outputs": [],
   "source": [
    "stop_network = StopNetwork()\n",
    "for filepath in glob.iglob(\"../data/routes/M*_stop_graph.csv\"):\n",
    "    route_name = filepath[filepath.rfind(\"/\") + 1:filepath.find(\"_\")]\n",
    "    #print(filepath)\n",
    "    #print(route_name)\n",
    "    stop_network.add_from_csv(route_name, filepath)\n",
    "stop_network.stops[\"Michael J. Quill Depot (MQ)\"].add_chargers(num_chargers=20, )\n",
    "stop_network.stops[\"Michael J. Quill Depot (MQ)\"].is_depot = True\n",
    "stop_network.stops[\"Michael J. Quill Depot (MQ)\"].charging_capacity=11700\n",
    "for route in stop_network.routes:\n",
    "    stop_network.stops[\"Michael J. Quill Depot (MQ)\"].Bus_standby.update({route:[]})\n",
    "\n",
    "#stop_network.add_from_csv(\"M14D-SBS\", \"../../data/routes/M14D-SBS_stop_graph.csv\")\n",
    "#stop_network.stops[\"Michael J. Quill Depot (MQ)\"].add_chargers(num_chargers=1)\n",
    "#stop_network.stops[\"Michael J. Quill Depot (MQ)\"].is_depot = True"
   ]
  },
  {
   "cell_type": "markdown",
   "metadata": {},
   "source": [
    "## Load MJQ Routes and Buses"
   ]
  },
  {
   "cell_type": "code",
   "execution_count": 3,
   "metadata": {},
   "outputs": [
    {
     "name": "stdout",
     "output_type": "stream",
     "text": [
      "{'M9': 32, 'M14A-SBS': 29, 'M14D-SBS': 43, 'M50': 11, 'M42': 18, 'M20': 16, 'M55': 15, 'M12': 6, 'M22': 17, 'M86-SBS': 24, 'M79-SBS': 20, 'M60-SBS': 34, 'M34-SBS': 20, 'M34A-SBS': 24, 'M23-SBS': 18, 'M66': 22, 'M21': 16, 'M8': 14, 'M57': 21, 'M72': 20}\n"
     ]
    }
   ],
   "source": [
    "with open(\"../output/MJQ_bus_counts.pkl\",\"rb\") as f:\n",
    "    MJQ_bus_counts = pickle.load(f)\n",
    "\n",
    "print(MJQ_bus_counts)\n",
    "#Load the name of all bus routes in Manhattan\n",
    "#manhattan_routes_data = pd.read_table('../data/routes/manhattan_routes.txt', sep = ',', header = None)\n",
    "#manhattan_routes_data.columns = ['route','depot']\n",
    "#error_route = ['M72']\n",
    "#M1, M22, M8 Took forever to run\n",
    "#manhattan_routes_data = manhattan_routes_data[~manhattan_routes_data['route'].isin(error_route)]\n",
    "#manhattan_routes_data = manhattan_routes_data.reset_index(drop=True)"
   ]
  },
  {
   "cell_type": "code",
   "execution_count": 4,
   "metadata": {
    "scrolled": true
   },
   "outputs": [],
   "source": [
    "#stop_network.routes\n",
    "#stop_network.stops[\"Michael J. Quill Depot (MQ)\"].Bus_standby"
   ]
  },
  {
   "cell_type": "code",
   "execution_count": 5,
   "metadata": {
    "scrolled": true
   },
   "outputs": [],
   "source": [
    "#stop_network.stops[\"Michael J. Quill Depot (MQ)\"].Time_ToBe_Launched"
   ]
  },
  {
   "cell_type": "markdown",
   "metadata": {},
   "source": [
    "## Import MJQ Bus Schedule"
   ]
  },
  {
   "cell_type": "code",
   "execution_count": 6,
   "metadata": {},
   "outputs": [],
   "source": [
    "with open(\"../output/MJQ_schedule.pkl\",\"rb\") as f:\n",
    "    MJQ_schedule = pickle.load(f)\n",
    "\n",
    "stop_network.stops[\"Michael J. Quill Depot (MQ)\"].Time_ToBe_Launched = MJQ_schedule\n",
    "#print(MJQ_schedule)"
   ]
  },
  {
   "cell_type": "markdown",
   "metadata": {},
   "source": [
    "## Create Buses in the Network"
   ]
  },
  {
   "cell_type": "code",
   "execution_count": 7,
   "metadata": {},
   "outputs": [
    {
     "name": "stdout",
     "output_type": "stream",
     "text": [
      "Created 31 buses of Route M9       at Michael J. Quill Depot (MQ) heading BATTERY PK CITY via AVENUE C via PK ROW\n",
      "Created 28 buses of Route M14A-SBS at Michael J. Quill Depot (MQ) heading SELECT BUS LES GRAND-FDR via 14 ST\n",
      "Created 42 buses of Route M14D-SBS at Michael J. Quill Depot (MQ) heading SELECT BUS CHLSEA PIERS  11 AV via 14 ST\n",
      "Created 10 buses of Route M50      at Michael J. Quill Depot (MQ) heading EAST SIDE 49 ST-1 AV CROSSTOWN\n",
      "Created 17 buses of Route M42      at Michael J. Quill Depot (MQ) heading EAST SIDE U N-1 AV CROSSTOWN\n",
      "Created 15 buses of Route M20      at Michael J. Quill Depot (MQ) heading LINCOLN CENTER 66 ST via 8 AV\n",
      "Created 14 buses of Route M55      at Michael J. Quill Depot (MQ) heading 44 ST 6 AV\n",
      "Created  5 buses of Route M12      at Michael J. Quill Depot (MQ) heading MIDTOWN WEST COLUMBUS CIRCLE\n",
      "Created 16 buses of Route M22      at Michael J. Quill Depot (MQ) heading BATTERY PK CTY\n",
      "Created 23 buses of Route M86-SBS  at Michael J. Quill Depot (MQ) heading SELECT BUS WESTSIDE WEST END AV CROSSTWN\n",
      "Created 19 buses of Route M79-SBS  at Michael J. Quill Depot (MQ) heading SELECT BUS W SIDE RIVERSIDE DR CROSSTOWN\n",
      "Created 33 buses of Route M60-SBS  at Michael J. Quill Depot (MQ) heading SELECT BUS LA GUARDIA AIRPORT\n",
      "Created 19 buses of Route M34-SBS  at Michael J. Quill Depot (MQ) heading SELECT BUS EAST SIDE FDR DR CROSSTOWN\n",
      "Created 23 buses of Route M34A-SBS at Michael J. Quill Depot (MQ) heading SELECT BUS PA BUS TRM via 34 ST via 8 AV\n",
      "Created 17 buses of Route M23-SBS  at Michael J. Quill Depot (MQ) heading SELECT BUS CHELSEA PIERS 12AV CROSSTOWN\n",
      "Created 21 buses of Route M66      at Michael J. Quill Depot (MQ) heading EAST SIDE YORK AV CROSSTOWN\n",
      "Created 15 buses of Route M21      at Michael J. Quill Depot (MQ) heading LOWER E SIDE GRAND-FDR CROSSTOWN\n",
      "Created 13 buses of Route M8       at Michael J. Quill Depot (MQ) heading AVENUE D CROSSTOWN\n",
      "Created 20 buses of Route M57      at Michael J. Quill Depot (MQ) heading EAST SIDE YORK-60 ST CROSSTOWN\n",
      "Created 19 buses of Route M72      at Michael J. Quill Depot (MQ) heading EAST SIDE YORK AV CROSSTOWN M72\n"
     ]
    }
   ],
   "source": [
    "#NUM_BUSES = 1000\n",
    "michaeljquill_depot_routes = list(MJQ_bus_counts.keys())\n",
    "#michaeljquill_depot_routes = ['M104']\n",
    "speed = 15.33 # Km/h\n",
    "battery_capacity = 140# KWh\n",
    "battery_charge = 140 * 0.9 # KWh\n",
    "energy_use_per_km = 1.84 # KWh / Km\n",
    "#for bus_id in range(NUM_BUSES):\n",
    "#    route_name = random.choice(michaeljquill_depot_routes)\n",
    "#    route_direction = random.choice([direction for direction in stop_network.routes[route_name].stops if not \"to depot\" in direction])\n",
    "#    cur_stop_name = random.choice([stop.name for stop in stop_network.routes[route_name].stops[route_direction]])\n",
    "#    stop_network.add_bus(bus_id, speed, cur_stop_name, route_name, route_direction, battery_capacity, battery_charge*(np.random.rand()*(1-0.3)+0.3), energy_use_per_km)\n",
    "#    print(route_name, route_direction, cur_stop_name)\n",
    "\n",
    "bus_id = 0\n",
    "cur_stop_name = \"Michael J. Quill Depot (MQ)\"\n",
    "\n",
    "for route_name in michaeljquill_depot_routes:\n",
    "    route_direction = stop_network.routes[route_name].get_other_direction(stop_network.stops[cur_stop_name], None)\n",
    "    for i in range(MJQ_bus_counts[route_name]):\n",
    "        stop_network.add_bus(bus_id, speed, cur_stop_name, route_name, route_direction, battery_capacity, battery_charge, energy_use_per_km)\n",
    "        bus_id += 1\n",
    "    print('Created {0:2} buses of Route {1:8} at {2:10} heading {3:10}'.format(i, route_name, cur_stop_name, route_direction))\n"
   ]
  },
  {
   "cell_type": "code",
   "execution_count": 8,
   "metadata": {
    "scrolled": false
   },
   "outputs": [],
   "source": [
    "net_filepath = '../data/Penn_22.csv'\n",
    "capacity = 100\n",
    "sim = Simulation(stop_network, net_filepath, capacity)\n",
    "sim.run(30, 10, '../output/bus_MQ.csv','../output/charger_MQ.csv','../output/charger_rate_MQ.csv')"
   ]
  },
  {
   "cell_type": "code",
   "execution_count": 9,
   "metadata": {},
   "outputs": [],
   "source": [
    "#stop_network.stops['5 AV/W 38 ST'].edges['to depot of M3'].next_stop"
   ]
  },
  {
   "cell_type": "code",
   "execution_count": 10,
   "metadata": {},
   "outputs": [
    {
     "data": {
      "text/plain": [
       "0"
      ]
     },
     "execution_count": 10,
     "metadata": {},
     "output_type": "execute_result"
    }
   ],
   "source": [
    "#for bus in stop_network.routes['M3'].buses:\n",
    "# print(bus.get_next_direction(stop_network.stops['Michael J. Quill Depot (MQ)'], 'to depot of M3'))\n",
    "\n",
    "stop_network.stops['Michael J. Quill Depot (MQ)'].Delayed_time"
   ]
  },
  {
   "cell_type": "code",
   "execution_count": null,
   "metadata": {},
   "outputs": [],
   "source": [
    "#stop_network.stops['W 70 ST/FREEDOM PL'].edges['EAST SIDE YORK AV CROSSTOWN M72'].next_stop\n",
    "#stop_network.stops['WEST 66 ST/FREEDOM PL'].edges['EAST SIDE YORK AV CROSSTOWN M72'].next_stop\n",
    "#stop_network.stops['MADISON AV/E 65 ST'].edges\n",
    "#stop_network.routes[\"M72\"].stops\n",
    "#.stops[\"EAST SIDE YORK AV CROSSTOWN M72\"]:\n",
    "#    print(i)\n",
    "#stop_network.routes['M72'].get_other_direction(stop_network.stops['W 66 ST/FREEDOM PL'], 'EAST SIDE YORK AV CROSSTOWN M72')"
   ]
  },
  {
   "cell_type": "code",
   "execution_count": null,
   "metadata": {},
   "outputs": [],
   "source": [
    "#for bus in stop_network.routes['M3'].buses:\n",
    "#    print(bus.cur_stop.edges['EAST VILLAGE 8 ST via 5 AV'].length)"
   ]
  },
  {
   "cell_type": "code",
   "execution_count": null,
   "metadata": {},
   "outputs": [],
   "source": [
    "#for bus in stop_network.routes['M3'].buses:\n",
    "#    print(bus.cur_stop.edges['FT GEORGE 193 ST via MADISON via ST NICH'].length)"
   ]
  },
  {
   "cell_type": "code",
   "execution_count": null,
   "metadata": {
    "scrolled": false
   },
   "outputs": [],
   "source": [
    "#for direction in stop_network.routes['M3'].stops:\n",
    "#    print(direction)"
   ]
  },
  {
   "cell_type": "code",
   "execution_count": null,
   "metadata": {},
   "outputs": [],
   "source": [
    "import matplotlib.pyplot as plt\n",
    "import numpy as np\n",
    "import pandas as pd\n",
    " \n",
    "df = pd.read_csv('../output/charger_rate.csv',sep=',')\n",
    "df['Time (hr)']=df['Time (s)']/3600\n",
    "print(df.head())\n",
    "plt.figure(figsize=(20, 10)) \n",
    "display(plt.plot( 'Time (hr)', 'Charger 1', data=df, marker='.',markersize=15, color='pink', linewidth=0))\n",
    "display(plt.plot( 'Time (hr)', 'Charger 2', data=df, marker='.', color='olive',markersize=7, linewidth=0))\n",
    "display(plt.plot( 'Time (hr)', 'Charger 3', data=df, marker='.', color='blue', markersize=1, linewidth=0, linestyle='dashed'))\n",
    "\n",
    "plt.legend()\n",
    "plt.xlabel('Time (hr)')\n",
    "plt.ylabel('KWh')\n",
    "plt.title('Charger Demand')\n",
    "\n",
    "plt.show()\n",
    "\n"
   ]
  },
  {
   "cell_type": "code",
   "execution_count": null,
   "metadata": {},
   "outputs": [],
   "source": []
  },
  {
   "cell_type": "code",
   "execution_count": null,
   "metadata": {},
   "outputs": [],
   "source": [
    "import numpy as np\n",
    "import pandas as pd\n",
    " \n",
    "df = pd.read_csv('../output/charger_rate.csv',sep=',')\n",
    "plt.figure(figsize=(20, 10)) \n",
    "display(plt.plot( 'Time (s)', 'Charger 1', data=df, marker='.',markersize=15, color='pink', linewidth=0))\n",
    "\n",
    "\n",
    "plt.legend()\n",
    "plt.xlabel('Time (s)')\n",
    "plt.ylabel('KWh')\n",
    "plt.title('Charger 1 Demand')\n",
    "\n",
    "plt.show()\n",
    "\n"
   ]
  },
  {
   "cell_type": "code",
   "execution_count": null,
   "metadata": {},
   "outputs": [],
   "source": [
    "test = pd.read_csv('../output/bus.csv',sep=',')\n",
    "bus_1=test[test[\"ID\"]==1]\n",
    "bus_2=test[test[\"ID\"]==2]\n",
    "bus_3=test[test[\"ID\"]==3]\n",
    "\n",
    "print(bus_1.head(10))\n",
    "\n",
    "plt.figure(figsize=(20, 10)) \n",
    "\n",
    "display(plt.plot('Time (s)', 'Total Distance (Km)', data=bus_1, marker='', color='blue', linewidth=1))\n",
    "display(plt.plot('Time (s)', 'Total Distance (Km)', data=bus_2, marker='', color='pink', linewidth=1))\n",
    "display(plt.plot('Time (s)', 'Total Distance (Km)', data=bus_3, marker='', color='red', linewidth=1))\n",
    "\n",
    "plt.legend()\n",
    "plt.xlabel('Time (s)')\n",
    "plt.ylabel('Distance km')\n",
    "plt.title('Test Bus')\n"
   ]
  },
  {
   "cell_type": "code",
   "execution_count": null,
   "metadata": {},
   "outputs": [],
   "source": [
    "test = pd.read_csv('../output/bus.csv',sep=',')\n",
    "\n",
    "test['Time (hr)']=test['Time (s)']/3600\n",
    "print(df.head())\n",
    "\n",
    "bus_1=test[test[\"ID\"]==1]\n",
    "bus_2=test[test[\"ID\"]==2]\n",
    "bus_3=test[test[\"ID\"]==3]\n",
    "\n",
    "\n",
    "#print(bus_1.head(10))\n",
    "\n",
    "plt.figure(figsize=(20, 10)) \n",
    "\n",
    "display(plt.plot('Time (hr)', 'SOC', data=bus_1, marker='', color='blue', linewidth=1))\n",
    "display(plt.plot('Time (hr)', 'SOC', data=bus_2, marker='', color='red', linewidth=1))\n",
    "display(plt.plot('Time (hr)', 'SOC', data=bus_3, marker='', color='green', linewidth=1))\n",
    "\n",
    "\n",
    "plt.legend()\n",
    "plt.xlabel('Time (hr)')\n",
    "plt.ylabel('SOC')\n",
    "plt.title('Test Bus')\n"
   ]
  },
  {
   "cell_type": "code",
   "execution_count": null,
   "metadata": {},
   "outputs": [],
   "source": [
    "host_cap = pd.read_csv('../data/Penn_22.csv',sep=',',index_col=None)\n",
    "dff = host_cap[['DateTime','Pennsylvania']]\n",
    "dff['DateTime']= pd.to_datetime(dff['DateTime'])\n",
    "dff['Hour'] = dff.DateTime.apply(lambda x: x.hour)"
   ]
  },
  {
   "cell_type": "code",
   "execution_count": null,
   "metadata": {},
   "outputs": [],
   "source": [
    "#12 chargers @450kW \n",
    "labels = ['0', '1', '2', '3', '4', '5', '6', '7', '8', '9', '10', '11', \n",
    "          '12', '13', '14', '15', '16', '17', '18', '19', '20', '21', '22', '23']\n",
    "charger = [5.4, 5.4, 5.4, 5.4, 5.4, 5.4, 5.4, 5.4, 5.4, 0, 0, 0, 0, 0, 0, 0, 0,\n",
    "          5.4, 5.4, 5.4, 5.4, 5.4, 5.4, 5.4]\n",
    "load = []\n",
    "for i in range(0,24):\n",
    "    ld = dff['Pennsylvania'].loc[5352+i]\n",
    "    load.append(float(ld))\n",
    "avg_load = []\n",
    "for i in range(0,24):\n",
    "    avg = dff.loc[dff['Hour'] == i, 'Pennsylvania'].mean()\n",
    "    avg = \"%.2f\" %avg\n",
    "    avg_load.append(float(avg))\n",
    "width = 0.7\n",
    "\n",
    "fig, ax = plt.subplots(figsize=(30,15))\n",
    "plt.axhline(y=100, color='r', linestyle='--', label='Capability 100MW')\n",
    "plt.plot(labels, avg_load, marker='o', markerfacecolor='black', markersize=10, color='skyblue', linewidth=4, label='Average Anticipated Load')\n",
    "ax1 = ax.bar(labels, load, width, color='green', label='Anticipated Load')\n",
    "ax2 = ax.bar(labels, charger, width, color='blue', yerr=None, bottom=load, label='Bus Charger Load')\n",
    "for r1, r2 in zip(ax1, ax2):\n",
    "    h1 = r1.get_height()\n",
    "    h2 = r2.get_height()\n",
    "    plt.text(r1.get_x() + r1.get_width() / 2., h1 / 2., \"%.2f\" % h1, ha=\"center\", va=\"center\", color=\"white\", fontsize=16)\n",
    "    plt.text(r2.get_x() + r2.get_width() / 2., h1 + h2 / 2., \"%.2f\" % h2, ha=\"center\", va=\"center\", color=\"white\", fontsize=16)\n",
    "ax.set_xlabel('Hour')\n",
    "ax.set_ylabel('MW')\n",
    "ax.set_title('Pennsylvania Network Hosting Capacity at Aug 12, 2022')\n",
    "ax.legend(loc='best')\n",
    "plt.ylim(0,300)\n",
    "plt.show()"
   ]
  },
  {
   "cell_type": "code",
   "execution_count": null,
   "metadata": {},
   "outputs": [],
   "source": [
    "#26 chargers @450kW \n",
    "charger = [11.7, 11.7, 11.7, 11.7, 11.7, 11.7, 11.7, 11.7, 11, 0, 0, 0, 0, 0, 0, 0, 0,\n",
    "          9, 11.7, 11.7, 11.7, 11.7, 11.7, 11.7]\n",
    "load = []\n",
    "for i in range(0,24):\n",
    "    ld = dff['Pennsylvania'].loc[5352+i]\n",
    "    load.append(float(ld))\n",
    "avg_load = []\n",
    "for i in range(0,24):\n",
    "    avg = dff.loc[dff['Hour'] == i, 'Pennsylvania'].mean()\n",
    "    avg = \"%.2f\" %avg\n",
    "    avg_load.append(float(avg))\n",
    "width = 0.7\n",
    "\n",
    "fig, ax = plt.subplots(figsize=(30,15))\n",
    "plt.axhline(y=100, color='r', linestyle='--', label='Capability 100MW')\n",
    "plt.plot(labels, avg_load, marker='o', markerfacecolor='black', markersize=10, color='skyblue', linewidth=4, label='Average Anticipated Load')\n",
    "ax1 = ax.bar(labels, load, width, color='green', label='Anticipated Load')\n",
    "ax2 = ax.bar(labels, charger, width, color='blue', yerr=None, bottom=load, label='Bus Charger Load')\n",
    "for r1, r2 in zip(ax1, ax2):\n",
    "    h1 = r1.get_height()\n",
    "    h2 = r2.get_height()\n",
    "    plt.text(r1.get_x() + r1.get_width() / 2., h1 / 2., \"%.2f\" % h1, ha=\"center\", va=\"center\", color=\"white\", fontsize=16)\n",
    "    plt.text(r2.get_x() + r2.get_width() / 2., h1 + h2 / 2., \"%.2f\" % h2, ha=\"center\", va=\"center\", color=\"white\", fontsize=16)\n",
    "ax.set_xlabel('Hour')\n",
    "ax.set_ylabel('MW')\n",
    "ax.set_title('Pennsylvania Network Hosting Capacity at Aug 12, 2022')\n",
    "ax.legend(loc='best')\n",
    "plt.ylim(0,300)\n",
    "plt.show()"
   ]
  }
 ],
 "metadata": {
  "kernelspec": {
   "display_name": "Python 3",
   "language": "python",
   "name": "python3"
  },
  "language_info": {
   "codemirror_mode": {
    "name": "ipython",
    "version": 3
   },
   "file_extension": ".py",
   "mimetype": "text/x-python",
   "name": "python",
   "nbconvert_exporter": "python",
   "pygments_lexer": "ipython3",
   "version": "3.8.8"
  }
 },
 "nbformat": 4,
 "nbformat_minor": 4
}
