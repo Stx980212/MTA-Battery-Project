{
 "cells": [
  {
   "cell_type": "code",
   "execution_count": 1,
   "id": "58fde79c",
   "metadata": {},
   "outputs": [],
   "source": [
    "import cvxpy as cp\n",
    "import numpy as np\n",
    "import pandas as pd\n",
    "import matplotlib.pyplot as plt\n",
    "import gurobipy"
   ]
  },
  {
   "cell_type": "code",
   "execution_count": 2,
   "id": "ec2acdf6",
   "metadata": {},
   "outputs": [],
   "source": [
    "data_dir = '../../output/'"
   ]
  },
  {
   "cell_type": "code",
   "execution_count": 4,
   "id": "88fb181f",
   "metadata": {},
   "outputs": [
    {
     "data": {
      "text/html": [
       "<div>\n",
       "<style scoped>\n",
       "    .dataframe tbody tr th:only-of-type {\n",
       "        vertical-align: middle;\n",
       "    }\n",
       "\n",
       "    .dataframe tbody tr th {\n",
       "        vertical-align: top;\n",
       "    }\n",
       "\n",
       "    .dataframe thead th {\n",
       "        text-align: right;\n",
       "    }\n",
       "</style>\n",
       "<table border=\"1\" class=\"dataframe\">\n",
       "  <thead>\n",
       "    <tr style=\"text-align: right;\">\n",
       "      <th></th>\n",
       "      <th>Half_Hour</th>\n",
       "      <th>Total</th>\n",
       "    </tr>\n",
       "  </thead>\n",
       "  <tbody>\n",
       "    <tr>\n",
       "      <th>0</th>\n",
       "      <td>0.0</td>\n",
       "      <td>0.0</td>\n",
       "    </tr>\n",
       "    <tr>\n",
       "      <th>1</th>\n",
       "      <td>0.5</td>\n",
       "      <td>0.0</td>\n",
       "    </tr>\n",
       "    <tr>\n",
       "      <th>2</th>\n",
       "      <td>1.0</td>\n",
       "      <td>0.0</td>\n",
       "    </tr>\n",
       "    <tr>\n",
       "      <th>3</th>\n",
       "      <td>1.5</td>\n",
       "      <td>0.0</td>\n",
       "    </tr>\n",
       "    <tr>\n",
       "      <th>4</th>\n",
       "      <td>2.0</td>\n",
       "      <td>0.0</td>\n",
       "    </tr>\n",
       "  </tbody>\n",
       "</table>\n",
       "</div>"
      ],
      "text/plain": [
       "   Half_Hour  Total\n",
       "0        0.0    0.0\n",
       "1        0.5    0.0\n",
       "2        1.0    0.0\n",
       "3        1.5    0.0\n",
       "4        2.0    0.0"
      ]
     },
     "execution_count": 4,
     "metadata": {},
     "output_type": "execute_result"
    }
   ],
   "source": [
    "demand = pd.read_csv(data_dir+'MQ_halfhour_consumption.csv')\n",
    "demand.head()"
   ]
  },
  {
   "cell_type": "code",
   "execution_count": 26,
   "id": "1c390ce1",
   "metadata": {},
   "outputs": [
    {
     "name": "stdout",
     "output_type": "stream",
     "text": [
      "[1893.478219   2056.23077    1691.956598   1769.438131   1504.440342\n",
      " 1465.61351149 1089.134408   1010.7411407   821.195494    783.853568\n",
      "  478.0161965   736.0309303   604.1958966   989.8107501  1717.177881\n",
      " 2004.985034   2442.121156   3617.215455   4046.304313   4478.9724\n",
      " 4974.627912   5280.016368   5418.873858   4526.461414   3820.192839\n",
      " 3531.138524   3214.456372   3034.214606   3134.67138    3112.513631\n",
      " 3454.095941   3649.381963   3636.941257   3860.695807   3966.708314\n",
      " 4465.496913   4890.401732   4632.832575   4616.945959   4249.318171\n",
      " 4723.606523   4165.327808   3632.209622   3296.140622   3801.920897\n",
      " 2891.678708   2936.286409   2266.699337  ]\n"
     ]
    },
    {
     "data": {
      "text/plain": [
       "48"
      ]
     },
     "execution_count": 26,
     "metadata": {},
     "output_type": "execute_result"
    }
   ],
   "source": [
    "demand_day = []\n",
    "for i in demand.index:\n",
    "    #print(i)\n",
    "    if demand.Half_Hour[i] < 24:\n",
    "        demand_day.append(demand.Total[i])\n",
    "    else:\n",
    "        demand_day[i-48] += demand.Total[i]\n",
    "\n",
    "demand_day = np.array(demand_day)  \n",
    "print(demand_day) # kW for each 30 min\n",
    "len(demand_day)"
   ]
  },
  {
   "cell_type": "code",
   "execution_count": 91,
   "id": "8cd54189",
   "metadata": {},
   "outputs": [],
   "source": [
    "Capacity = 5000 # kWh\n",
    "Duration = 4 # hr\n",
    "Power = Capacity / Duration # kW"
   ]
  },
  {
   "cell_type": "code",
   "execution_count": 92,
   "id": "ea9ed013",
   "metadata": {},
   "outputs": [],
   "source": [
    "x = np.arange(48)/2"
   ]
  },
  {
   "cell_type": "code",
   "execution_count": 93,
   "id": "99085cd5",
   "metadata": {},
   "outputs": [],
   "source": [
    "Depot_Demand = cp.Variable(48, nonneg = True) \n",
    "Battery_Input = cp.Variable(48, nonneg = False) \n",
    "SOC = cp.Variable(49, nonneg = True) \n",
    "Maximum_Demand = cp.Variable(1) \n",
    "\n",
    "obj =  cp.Minimize(Maximum_Demand)\n",
    "\n",
    "con_set = []\n",
    "\n",
    "con_set.append( Depot_Demand == demand_day + Battery_Input )\n",
    "con_set.append( SOC <= Capacity )\n",
    "con_set.append( Battery_Input <= Power )\n",
    "con_set.append( Battery_Input >= -Power)\n",
    "for i in range(48):\n",
    "    con_set.append( SOC[i] + Battery_Input[i] * 0.5 == SOC[i+1])\n",
    "con_set.append( SOC[0] == SOC[48])\n",
    "con_set.append( Depot_Demand <= Maximum_Demand)"
   ]
  },
  {
   "cell_type": "code",
   "execution_count": 94,
   "id": "49082fb4",
   "metadata": {},
   "outputs": [
    {
     "data": {
      "text/plain": [
       "4168.873858"
      ]
     },
     "execution_count": 94,
     "metadata": {},
     "output_type": "execute_result"
    }
   ],
   "source": [
    "prob = cp.Problem(obj, con_set)\n",
    "prob.solve(solver = \"GUROBI\")"
   ]
  },
  {
   "cell_type": "code",
   "execution_count": 95,
   "id": "0df2aaae",
   "metadata": {},
   "outputs": [
    {
     "data": {
      "text/plain": [
       "array([4168.873858])"
      ]
     },
     "execution_count": 95,
     "metadata": {},
     "output_type": "execute_result"
    }
   ],
   "source": [
    "Maximum_Demand.value"
   ]
  },
  {
   "cell_type": "code",
   "execution_count": 100,
   "id": "5424040e",
   "metadata": {},
   "outputs": [
    {
     "data": {
      "image/png": "[encoded data removed]",
      "text/plain": [
       "<Figure size 432x288 with 1 Axes>"
      ]
     },
     "metadata": {
      "needs_background": "light"
     },
     "output_type": "display_data"
    }
   ],
   "source": [
    "fig, ax = plt.subplots()\n",
    "ax.bar(x, Depot_Demand.value, width = .4)\n",
    "ax.set_xlabel(\"Time (hr)\")\n",
    "ax.set_ylabel(\"Hourly Energy Demand of MQ deopt (kWh)\")\n",
    "ax.set_title(\"Hourly Energy Demand of MQ deopt with 5MW Battery\")\n",
    "ax.figure.savefig(\"../../fig/MQ_5MW_Battery.png\", dpi = 200)"
   ]
  },
  {
   "cell_type": "code",
   "execution_count": 200,
   "id": "bb3dbfd3",
   "metadata": {},
   "outputs": [],
   "source": [
    "def battery_plotting(index, demand_before, demand_after, filename):\n",
    "    \n",
    "    demand_base = np.zeros(demand_before.shape)\n",
    "    increase = np.zeros(demand_before.shape)\n",
    "    decrease = np.zeros(demand_before.shape)\n",
    "    \n",
    "    for i in range(len(demand_before)):\n",
    "        demand_base[i] = min(demand_before[i],demand_after[i])\n",
    "        temp = demand_after[i] - demand_before[i]\n",
    "        if temp >= 0:\n",
    "            increase[i] = temp\n",
    "        else:\n",
    "            decrease[i] = -temp\n",
    "    \n",
    "    fig, ax = plt.subplots(figsize = (10,6))\n",
    "    ax.bar(index, demand_base, width = 0.4, label = \"Base Charger Demand\")\n",
    "    ax.bar(index, increase, width = 0.4, bottom = demand_base, label = \"Increased Demand\")\n",
    "    ax.bar(index, decrease, width = 0.4, bottom = demand_base, label = \"Decreased Demand\")\n",
    "    #ax.set_ylim(0, max(demand_before))\n",
    "    ax.legend()\n",
    "    ax.figure.savefig(\"../../fig/MQ_5MW_Battery_Comparison\"+ filename +\".png\", dpi = 200)"
   ]
  },
  {
   "cell_type": "code",
   "execution_count": 201,
   "id": "7a80694f",
   "metadata": {},
   "outputs": [
    {
     "data": {
      "image/png": "[encoded data removed]",
      "text/plain": [
       "<Figure size 720x432 with 1 Axes>"
      ]
     },
     "metadata": {
      "needs_background": "light"
     },
     "output_type": "display_data"
    }
   ],
   "source": [
    "battery_plotting(x, demand_day, Depot_Demand.value, filename = \"_Max\")"
   ]
  },
  {
   "cell_type": "code",
   "execution_count": 202,
   "id": "7cf646a4",
   "metadata": {},
   "outputs": [],
   "source": [
    "# In this approach, opmitimizer will try it best to conduct overnight charging.\n",
    "Depot_Demand2 = cp.Variable(48, nonneg = True) \n",
    "Battery_Input2 = cp.Variable(48, nonneg = False) \n",
    "SOC2 = cp.Variable(49, nonneg = True) \n",
    "Maximum_Demand2 = cp.Variable(1) \n",
    "Minimum_Demand2 = cp.Variable(1) \n",
    "\n",
    "obj2 =  cp.Minimize( sum(Depot_Demand2[8*2:22*2]) + 0.05 * (Maximum_Demand2 - Minimum_Demand2))\n",
    "\n",
    "con_set2 = []\n",
    "\n",
    "con_set2.append( Depot_Demand2 == demand_day + Battery_Input2 )\n",
    "con_set2.append( SOC2 <= Capacity )\n",
    "con_set2.append( Battery_Input2 <= Power )\n",
    "con_set2.append( Battery_Input2 >= -Power)\n",
    "for i in range(48):\n",
    "    con_set2.append( SOC2[i] + Battery_Input2[i] * 0.5 == SOC2[i+1])\n",
    "con_set2.append( SOC2[0] == SOC2[48])\n",
    "con_set2.append( Depot_Demand2 <= Maximum_Demand2)\n",
    "con_set2.append( Depot_Demand2 >= Minimum_Demand2)"
   ]
  },
  {
   "cell_type": "code",
   "execution_count": 203,
   "id": "edb2c573",
   "metadata": {},
   "outputs": [
    {
     "data": {
      "text/plain": [
       "101993.92631807501"
      ]
     },
     "execution_count": 203,
     "metadata": {},
     "output_type": "execute_result"
    }
   ],
   "source": [
    "prob2 = cp.Problem(obj2, con_set2)\n",
    "prob2.solve(solver = \"GUROBI\")"
   ]
  },
  {
   "cell_type": "code",
   "execution_count": 204,
   "id": "6d976931",
   "metadata": {},
   "outputs": [
    {
     "data": {
      "image/png": "[encoded data removed]",
      "text/plain": [
       "<Figure size 720x432 with 1 Axes>"
      ]
     },
     "metadata": {
      "needs_background": "light"
     },
     "output_type": "display_data"
    }
   ],
   "source": [
    "battery_plotting(x, demand_day, Depot_Demand2.value, filename = \"Inte\")"
   ]
  },
  {
   "cell_type": "code",
   "execution_count": null,
   "id": "887250f7",
   "metadata": {},
   "outputs": [],
   "source": []
  },
  {
   "cell_type": "code",
   "execution_count": null,
   "id": "947add30",
   "metadata": {},
   "outputs": [],
   "source": []
  }
 ],
 "metadata": {
  "kernelspec": {
   "display_name": "Python 3",
   "language": "python",
   "name": "python3"
  },
  "language_info": {
   "codemirror_mode": {
    "name": "ipython",
    "version": 3
   },
   "file_extension": ".py",
   "mimetype": "text/x-python",
   "name": "python",
   "nbconvert_exporter": "python",
   "pygments_lexer": "ipython3",
   "version": "3.8.8"
  }
 },
 "nbformat": 4,
 "nbformat_minor": 5
}
