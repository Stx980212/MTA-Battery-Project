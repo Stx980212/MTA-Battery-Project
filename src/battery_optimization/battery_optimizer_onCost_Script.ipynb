{
 "cells": [
  {
   "cell_type": "code",
   "execution_count": 1,
   "id": "58fde79c",
   "metadata": {},
   "outputs": [],
   "source": [
    "import cvxpy as cp\n",
    "import numpy as np\n",
    "import pandas as pd\n",
    "import matplotlib.pyplot as plt\n",
    "import gurobipy"
   ]
  },
  {
   "cell_type": "code",
   "execution_count": 2,
   "id": "ec2acdf6",
   "metadata": {},
   "outputs": [],
   "source": [
    "data_dir = '../../output/'"
   ]
  },
  {
   "cell_type": "code",
   "execution_count": 3,
   "id": "947add30",
   "metadata": {},
   "outputs": [
    {
     "name": "stdout",
     "output_type": "stream",
     "text": [
      "Academic license - for non-commercial use only - expires 2022-10-27\n",
      "Using license file /Users/shentianxiao/gurobi.lic\n"
     ]
    }
   ],
   "source": [
    "Capacity = 5000\n",
    "depotname = \"MQ\"\n",
    "    \n",
    "peak_cost = [27.21, 19.50, 5.14]\n",
    "\n",
    "elec_cost = []\n",
    "\n",
    "for j in range(48):\n",
    "    if (j >= 16) & (j < 44):\n",
    "        elec_cost.append(4.670)\n",
    "    else:\n",
    "        elec_cost.append(3.722)\n",
    "\n",
    "demand = pd.read_csv(data_dir + depotname +'_halfhour_consumption.csv')\n",
    "\n",
    "demand_day = []\n",
    "for i in demand.index:\n",
    "#print(i)\n",
    "    if demand.Half_Hour[i] < 24:\n",
    "        demand_day.append(demand.Total[i])\n",
    "    else:\n",
    "        demand_day[i-48] += demand.Total[i]\n",
    "demand_day = np.array(demand_day)  \n",
    "\n",
    "result = []\n",
    "\n",
    "Duration = 4 # hr\n",
    "Power = Capacity / Duration # kW\n",
    "\n",
    "# In this approach, opmitimizer will try it best to conduct overnight charging.\n",
    "Depot_Demand2 = cp.Variable(48, nonneg = True) \n",
    "Battery_Input2 = cp.Variable(48, nonneg = False) \n",
    "SOC2 = cp.Variable(49, nonneg = True) \n",
    "Maximum_Demand2 = cp.Variable(3) \n",
    "\n",
    "obj2 =  cp.Minimize( peak_cost @ Maximum_Demand2  + 30 * (elec_cost @ Depot_Demand2) / 1000)\n",
    "\n",
    "con_set2 = []\n",
    "\n",
    "con_set2.append( Depot_Demand2 == demand_day + Battery_Input2 )\n",
    "con_set2.append( SOC2 <= i )\n",
    "con_set2.append( Battery_Input2 <= Power )\n",
    "con_set2.append( Battery_Input2 >= -Power)\n",
    "\n",
    "for j in range(48):\n",
    "    con_set2.append( SOC2[j] + Battery_Input2[j] * 0.5 == SOC2[j+1])\n",
    "con_set2.append( SOC2[0] == SOC2[48])\n",
    "\n",
    "for j in range(48):\n",
    "    if (j >= 16) & (j < 36):\n",
    "        con_set2.append( Depot_Demand2[j] <= Maximum_Demand2[0] )\n",
    "    elif (j >= 36) & (j < 44):\n",
    "        con_set2.append( Depot_Demand2[j] <= Maximum_Demand2[1] )\n",
    "    else:\n",
    "        con_set2.append( Depot_Demand2[j] <= Maximum_Demand2[2] )\n",
    "\n",
    "prob2 = cp.Problem(obj2, con_set2)\n",
    "prob2.solve(solver = \"GUROBI\")\n",
    "\n",
    "result.append(Maximum_Demand2.value[0])\n",
    "#Result_output(x, demand_day, Depot_Demand2.value, filename = \"Cost_\" + str(i), depotname = depotname)\n"
   ]
  },
  {
   "cell_type": "code",
   "execution_count": 4,
   "id": "c38a2b66",
   "metadata": {},
   "outputs": [
    {
     "ename": "NameError",
     "evalue": "name 'Depot_opti' is not defined",
     "output_type": "error",
     "traceback": [
      "\u001b[0;31m---------------------------------------------------------------------------\u001b[0m",
      "\u001b[0;31mNameError\u001b[0m                                 Traceback (most recent call last)",
      "\u001b[0;32m<ipython-input-4-bd6ec0a0c47a>\u001b[0m in \u001b[0;36m<module>\u001b[0;34m\u001b[0m\n\u001b[1;32m      2\u001b[0m \u001b[0mx\u001b[0m \u001b[0;34m=\u001b[0m \u001b[0mnp\u001b[0m\u001b[0;34m.\u001b[0m\u001b[0marange\u001b[0m\u001b[0;34m(\u001b[0m\u001b[0;36m48\u001b[0m\u001b[0;34m)\u001b[0m\u001b[0;34m/\u001b[0m\u001b[0;36m2\u001b[0m\u001b[0;34m\u001b[0m\u001b[0;34m\u001b[0m\u001b[0m\n\u001b[1;32m      3\u001b[0m \u001b[0;34m\u001b[0m\u001b[0m\n\u001b[0;32m----> 4\u001b[0;31m \u001b[0mresult\u001b[0m \u001b[0;34m=\u001b[0m \u001b[0mDepot_opti\u001b[0m\u001b[0;34m(\u001b[0m\u001b[0mCapacity\u001b[0m\u001b[0;34m,\u001b[0m \u001b[0;34m\"MQ\"\u001b[0m\u001b[0;34m)\u001b[0m\u001b[0;34m\u001b[0m\u001b[0;34m\u001b[0m\u001b[0m\n\u001b[0m",
      "\u001b[0;31mNameError\u001b[0m: name 'Depot_opti' is not defined"
     ]
    }
   ],
   "source": [
    "Capacity = [0, 1000 ,2000 ,5000 ,10000]\n",
    "x = np.arange(48)/2\n",
    "\n",
    "result = Depot_opti(Capacity, \"MQ\")"
   ]
  },
  {
   "cell_type": "code",
   "execution_count": null,
   "id": "c778f4c9",
   "metadata": {},
   "outputs": [],
   "source": [
    "result"
   ]
  },
  {
   "cell_type": "code",
   "execution_count": null,
   "id": "cb12f250",
   "metadata": {},
   "outputs": [],
   "source": [
    "Capacity = [0, 1000 ,2000 ,5000 ,10000]\n",
    "x = np.arange(48)/2\n",
    "\n",
    "result = Depot_opti(Capacity, \"KB\")"
   ]
  },
  {
   "cell_type": "code",
   "execution_count": null,
   "id": "06f6296f",
   "metadata": {},
   "outputs": [],
   "source": [
    "result"
   ]
  },
  {
   "cell_type": "code",
   "execution_count": 5,
   "id": "c4b64238",
   "metadata": {},
   "outputs": [
    {
     "data": {
      "text/plain": [
       "array([5406.62456252, 4811.0811202 , 3383.94769114])"
      ]
     },
     "execution_count": 5,
     "metadata": {},
     "output_type": "execute_result"
    }
   ],
   "source": [
    "Maximum_Demand2.value"
   ]
  },
  {
   "cell_type": "code",
   "execution_count": null,
   "id": "ad859608",
   "metadata": {},
   "outputs": [],
   "source": [
    "sum( Depot_Demand2 @ elec_cost)"
   ]
  },
  {
   "cell_type": "code",
   "execution_count": 6,
   "id": "9efb0a95",
   "metadata": {},
   "outputs": [
    {
     "data": {
      "text/plain": [
       "array([2892.86561003, 2750.98688232, 2469.71500417, 2246.80333688,\n",
       "       2039.59116176, 1772.5438897 , 1077.15499102,  914.50342974,\n",
       "        801.66960043,  774.352521  ,  784.80309654,  678.88692585,\n",
       "        983.45695965, 1271.92030962, 1907.09340413, 2613.51379408,\n",
       "       2568.88066926, 4141.14210592, 5187.71207555, 5406.62456252,\n",
       "       5406.62456252, 4775.03493068, 4812.7433768 , 4341.67287044,\n",
       "       4115.57779007, 3875.42517928, 4013.74686409, 4009.24811708,\n",
       "       3903.08375064, 3944.71372862, 3957.45646685, 3988.0616788 ,\n",
       "       4358.55213864, 4316.30953014, 4474.38060174, 5116.61182172,\n",
       "       4811.0811202 , 4811.0811202 , 4710.68405845, 4529.14892171,\n",
       "       4024.43311871, 4106.35023316, 3795.01726828, 3888.42492931,\n",
       "       3383.94769114, 3383.94769114, 3086.19091391, 2976.2270865 ])"
      ]
     },
     "execution_count": 6,
     "metadata": {},
     "output_type": "execute_result"
    }
   ],
   "source": [
    "Depot_Demand2.value"
   ]
  },
  {
   "cell_type": "code",
   "execution_count": 7,
   "id": "f64cd6b6",
   "metadata": {},
   "outputs": [
    {
     "data": {
      "text/plain": [
       "711341.9449147738"
      ]
     },
     "execution_count": 7,
     "metadata": {},
     "output_type": "execute_result"
    }
   ],
   "source": [
    "elec_cost @ Depot_Demand2.value"
   ]
  },
  {
   "cell_type": "code",
   "execution_count": 8,
   "id": "ae9a0729",
   "metadata": {},
   "outputs": [
    {
     "data": {
      "text/plain": [
       "[3.722,\n",
       " 3.722,\n",
       " 3.722,\n",
       " 3.722,\n",
       " 3.722,\n",
       " 3.722,\n",
       " 3.722,\n",
       " 3.722,\n",
       " 3.722,\n",
       " 3.722,\n",
       " 3.722,\n",
       " 3.722,\n",
       " 3.722,\n",
       " 3.722,\n",
       " 3.722,\n",
       " 3.722,\n",
       " 4.67,\n",
       " 4.67,\n",
       " 4.67,\n",
       " 4.67,\n",
       " 4.67,\n",
       " 4.67,\n",
       " 4.67,\n",
       " 4.67,\n",
       " 4.67,\n",
       " 4.67,\n",
       " 4.67,\n",
       " 4.67,\n",
       " 4.67,\n",
       " 4.67,\n",
       " 4.67,\n",
       " 4.67,\n",
       " 4.67,\n",
       " 4.67,\n",
       " 4.67,\n",
       " 4.67,\n",
       " 4.67,\n",
       " 4.67,\n",
       " 4.67,\n",
       " 4.67,\n",
       " 4.67,\n",
       " 4.67,\n",
       " 4.67,\n",
       " 4.67,\n",
       " 3.722,\n",
       " 3.722,\n",
       " 3.722,\n",
       " 3.722]"
      ]
     },
     "execution_count": 8,
     "metadata": {},
     "output_type": "execute_result"
    }
   ],
   "source": [
    "elec_cost"
   ]
  },
  {
   "cell_type": "code",
   "execution_count": 9,
   "id": "c6a1e1dc",
   "metadata": {},
   "outputs": [
    {
     "data": {
      "text/plain": [
       "258323.8273225867"
      ]
     },
     "execution_count": 9,
     "metadata": {},
     "output_type": "execute_result"
    }
   ],
   "source": [
    "peak_cost @ Maximum_Demand2.value"
   ]
  },
  {
   "cell_type": "code",
   "execution_count": 12,
   "id": "13d91549",
   "metadata": {},
   "outputs": [
    {
     "data": {
      "text/plain": [
       "124397.03759935795"
      ]
     },
     "execution_count": 12,
     "metadata": {},
     "output_type": "execute_result"
    }
   ],
   "source": [
    "Battery_Input2.value@Battery_Input2.value"
   ]
  },
  {
   "cell_type": "code",
   "execution_count": null,
   "id": "a68c82be",
   "metadata": {},
   "outputs": [],
   "source": []
  }
 ],
 "metadata": {
  "kernelspec": {
   "display_name": "Python 3",
   "language": "python",
   "name": "python3"
  },
  "language_info": {
   "codemirror_mode": {
    "name": "ipython",
    "version": 3
   },
   "file_extension": ".py",
   "mimetype": "text/x-python",
   "name": "python",
   "nbconvert_exporter": "python",
   "pygments_lexer": "ipython3",
   "version": "3.8.8"
  }
 },
 "nbformat": 4,
 "nbformat_minor": 5
}
